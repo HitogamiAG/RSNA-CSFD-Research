{
 "cells": [
  {
   "cell_type": "code",
   "execution_count": 1,
   "id": "e077f177",
   "metadata": {
    "execution": {
     "iopub.execute_input": "2023-05-06T08:06:19.476206Z",
     "iopub.status.busy": "2023-05-06T08:06:19.475728Z",
     "iopub.status.idle": "2023-05-06T08:06:34.456295Z",
     "shell.execute_reply": "2023-05-06T08:06:34.454601Z"
    },
    "papermill": {
     "duration": 14.990997,
     "end_time": "2023-05-06T08:06:34.459097",
     "exception": false,
     "start_time": "2023-05-06T08:06:19.468100",
     "status": "completed"
    },
    "tags": []
   },
   "outputs": [
    {
     "name": "stdout",
     "output_type": "stream",
     "text": [
      "\u001b[33mWARNING: Running pip as the 'root' user can result in broken permissions and conflicting behaviour with the system package manager. It is recommended to use a virtual environment instead: https://pip.pypa.io/warnings/venv\u001b[0m\u001b[33m\r\n",
      "\u001b[0m"
     ]
    }
   ],
   "source": [
    "!pip3 -q install pylibjpeg pylibjpeg-libjpeg pydicom python-gdcm"
   ]
  },
  {
   "cell_type": "code",
   "execution_count": 2,
   "id": "838a564b",
   "metadata": {
    "_cell_guid": "b1076dfc-b9ad-4769-8c92-a6c4dae69d19",
    "_uuid": "8f2839f25d086af736a60e9eeb907d3b93b6e0e5",
    "execution": {
     "iopub.execute_input": "2023-05-06T08:06:34.471929Z",
     "iopub.status.busy": "2023-05-06T08:06:34.471380Z",
     "iopub.status.idle": "2023-05-06T08:06:35.223772Z",
     "shell.execute_reply": "2023-05-06T08:06:35.222393Z"
    },
    "papermill": {
     "duration": 0.762445,
     "end_time": "2023-05-06T08:06:35.226825",
     "exception": false,
     "start_time": "2023-05-06T08:06:34.464380",
     "status": "completed"
    },
    "tags": []
   },
   "outputs": [
    {
     "name": "stderr",
     "output_type": "stream",
     "text": [
      "/opt/conda/lib/python3.10/site-packages/scipy/__init__.py:146: UserWarning: A NumPy version >=1.16.5 and <1.23.0 is required for this version of SciPy (detected version 1.23.5\n",
      "  warnings.warn(f\"A NumPy version >={np_minversion} and <{np_maxversion}\"\n"
     ]
    }
   ],
   "source": [
    "import numpy as np\n",
    "import pandas as pd\n",
    "from pathlib import Path\n",
    "\n",
    "import pydicom as dicom\n",
    "import cv2 as cv\n",
    "from scipy.sparse import load_npz\n",
    "\n",
    "from tqdm import tqdm\n",
    "import os\n",
    "import json\n",
    "\n",
    "from warnings import filterwarnings\n",
    "filterwarnings('ignore')\n",
    "\n",
    "from multiprocessing.pool import ThreadPool"
   ]
  },
  {
   "cell_type": "code",
   "execution_count": 3,
   "id": "0bcb78f3",
   "metadata": {
    "execution": {
     "iopub.execute_input": "2023-05-06T08:06:35.239698Z",
     "iopub.status.busy": "2023-05-06T08:06:35.239242Z",
     "iopub.status.idle": "2023-05-06T08:06:35.245477Z",
     "shell.execute_reply": "2023-05-06T08:06:35.243910Z"
    },
    "papermill": {
     "duration": 0.015629,
     "end_time": "2023-05-06T08:06:35.248107",
     "exception": false,
     "start_time": "2023-05-06T08:06:35.232478",
     "status": "completed"
    },
    "tags": []
   },
   "outputs": [],
   "source": [
    "dicom_path = Path('/kaggle/input/rsna-2022-cervical-spine-fracture-detection/train_images/')\n",
    "segm_path = Path('/kaggle/input/rsna-csfd-masks')"
   ]
  },
  {
   "cell_type": "code",
   "execution_count": 4,
   "id": "6f7a1ca6",
   "metadata": {
    "execution": {
     "iopub.execute_input": "2023-05-06T08:06:35.261511Z",
     "iopub.status.busy": "2023-05-06T08:06:35.260434Z",
     "iopub.status.idle": "2023-05-06T08:06:35.295312Z",
     "shell.execute_reply": "2023-05-06T08:06:35.293856Z"
    },
    "papermill": {
     "duration": 0.04467,
     "end_time": "2023-05-06T08:06:35.298113",
     "exception": false,
     "start_time": "2023-05-06T08:06:35.253443",
     "status": "completed"
    },
    "tags": []
   },
   "outputs": [
    {
     "data": {
      "text/plain": [
       "(2019, 9)"
      ]
     },
     "execution_count": 4,
     "metadata": {},
     "output_type": "execute_result"
    }
   ],
   "source": [
    "frac_df = pd.read_csv('/kaggle/input/rsna-2022-cervical-spine-fracture-detection/train.csv')\n",
    "frac_df.shape"
   ]
  },
  {
   "cell_type": "code",
   "execution_count": 5,
   "id": "aae1b89d",
   "metadata": {
    "execution": {
     "iopub.execute_input": "2023-05-06T08:06:35.310757Z",
     "iopub.status.busy": "2023-05-06T08:06:35.310259Z",
     "iopub.status.idle": "2023-05-06T08:06:35.786325Z",
     "shell.execute_reply": "2023-05-06T08:06:35.784767Z"
    },
    "papermill": {
     "duration": 0.48633,
     "end_time": "2023-05-06T08:06:35.789904",
     "exception": false,
     "start_time": "2023-05-06T08:06:35.303574",
     "status": "completed"
    },
    "tags": []
   },
   "outputs": [
    {
     "data": {
      "text/plain": [
       "(2015, 9)"
      ]
     },
     "execution_count": 5,
     "metadata": {},
     "output_type": "execute_result"
    }
   ],
   "source": [
    "# ЗАГЛУШКА ТОЛЬКО ДЛЯ СУЩЕСТВУЮЩИХ МАСОК\n",
    "\n",
    "presented_masks = [mask_name[:-4] for mask_name in os.listdir(str(segm_path)) if '.npz' in mask_name]\n",
    "frac_df = frac_df[frac_df.StudyInstanceUID.isin(presented_masks)].reset_index(drop=True)\n",
    "frac_df.shape"
   ]
  },
  {
   "cell_type": "code",
   "execution_count": 6,
   "id": "3bb2762a",
   "metadata": {
    "execution": {
     "iopub.execute_input": "2023-05-06T08:06:35.802238Z",
     "iopub.status.busy": "2023-05-06T08:06:35.801831Z",
     "iopub.status.idle": "2023-05-06T08:06:36.020962Z",
     "shell.execute_reply": "2023-05-06T08:06:36.020027Z"
    },
    "papermill": {
     "duration": 0.228298,
     "end_time": "2023-05-06T08:06:36.023500",
     "exception": false,
     "start_time": "2023-05-06T08:06:35.795202",
     "status": "completed"
    },
    "tags": []
   },
   "outputs": [],
   "source": [
    "with open(segm_path / 'metadata.json', 'r') as json_file:\n",
    "    frac_df_metadata = json.load(json_file)"
   ]
  },
  {
   "cell_type": "code",
   "execution_count": 7,
   "id": "ada564b9",
   "metadata": {
    "execution": {
     "iopub.execute_input": "2023-05-06T08:06:36.036338Z",
     "iopub.status.busy": "2023-05-06T08:06:36.035839Z",
     "iopub.status.idle": "2023-05-06T08:06:36.544342Z",
     "shell.execute_reply": "2023-05-06T08:06:36.542935Z"
    },
    "papermill": {
     "duration": 0.518235,
     "end_time": "2023-05-06T08:06:36.547141",
     "exception": false,
     "start_time": "2023-05-06T08:06:36.028906",
     "status": "completed"
    },
    "tags": []
   },
   "outputs": [
    {
     "name": "stdout",
     "output_type": "stream",
     "text": [
      "'4'\n",
      "'4'\n",
      "'1'\n",
      "'2'\n",
      "'3'\n",
      "'4'\n",
      "'5'\n",
      "'6'\n",
      "'7'\n",
      "'4'\n",
      "(14095, 4)\n"
     ]
    },
    {
     "data": {
      "text/html": [
       "<div>\n",
       "<style scoped>\n",
       "    .dataframe tbody tr th:only-of-type {\n",
       "        vertical-align: middle;\n",
       "    }\n",
       "\n",
       "    .dataframe tbody tr th {\n",
       "        vertical-align: top;\n",
       "    }\n",
       "\n",
       "    .dataframe thead th {\n",
       "        text-align: right;\n",
       "    }\n",
       "</style>\n",
       "<table border=\"1\" class=\"dataframe\">\n",
       "  <thead>\n",
       "    <tr style=\"text-align: right;\">\n",
       "      <th></th>\n",
       "      <th>StudyInstanceUID</th>\n",
       "      <th>Vertebra</th>\n",
       "      <th>State</th>\n",
       "      <th>Slices</th>\n",
       "    </tr>\n",
       "  </thead>\n",
       "  <tbody>\n",
       "    <tr>\n",
       "      <th>0</th>\n",
       "      <td>1.2.826.0.1.3680043.6200</td>\n",
       "      <td>1</td>\n",
       "      <td>1</td>\n",
       "      <td>44,45,46,47,48,49,50,51,52,53,54,55,56,57,58,5...</td>\n",
       "    </tr>\n",
       "    <tr>\n",
       "      <th>1</th>\n",
       "      <td>1.2.826.0.1.3680043.6200</td>\n",
       "      <td>2</td>\n",
       "      <td>1</td>\n",
       "      <td>49,50,51,52,53,54,55,56,57,58,59,60,61,62,63,6...</td>\n",
       "    </tr>\n",
       "    <tr>\n",
       "      <th>2</th>\n",
       "      <td>1.2.826.0.1.3680043.6200</td>\n",
       "      <td>3</td>\n",
       "      <td>0</td>\n",
       "      <td>83,84,85,86,87,88,89,90,93,94,95,96,97,102,103</td>\n",
       "    </tr>\n",
       "    <tr>\n",
       "      <th>3</th>\n",
       "      <td>1.2.826.0.1.3680043.6200</td>\n",
       "      <td>4</td>\n",
       "      <td>0</td>\n",
       "      <td>84,85,87,88,90,91,92,93,97,98,99,100,101,102,1...</td>\n",
       "    </tr>\n",
       "    <tr>\n",
       "      <th>4</th>\n",
       "      <td>1.2.826.0.1.3680043.6200</td>\n",
       "      <td>5</td>\n",
       "      <td>0</td>\n",
       "      <td>91,92,99,100,102,103,104,105,106,107,108,109,1...</td>\n",
       "    </tr>\n",
       "  </tbody>\n",
       "</table>\n",
       "</div>"
      ],
      "text/plain": [
       "           StudyInstanceUID  Vertebra  State  \\\n",
       "0  1.2.826.0.1.3680043.6200         1      1   \n",
       "1  1.2.826.0.1.3680043.6200         2      1   \n",
       "2  1.2.826.0.1.3680043.6200         3      0   \n",
       "3  1.2.826.0.1.3680043.6200         4      0   \n",
       "4  1.2.826.0.1.3680043.6200         5      0   \n",
       "\n",
       "                                              Slices  \n",
       "0  44,45,46,47,48,49,50,51,52,53,54,55,56,57,58,5...  \n",
       "1  49,50,51,52,53,54,55,56,57,58,59,60,61,62,63,6...  \n",
       "2     83,84,85,86,87,88,89,90,93,94,95,96,97,102,103  \n",
       "3  84,85,87,88,90,91,92,93,97,98,99,100,101,102,1...  \n",
       "4  91,92,99,100,102,103,104,105,106,107,108,109,1...  "
      ]
     },
     "execution_count": 7,
     "metadata": {},
     "output_type": "execute_result"
    }
   ],
   "source": [
    "df = {'StudyInstanceUID' : [],\n",
    "      'Vertebra' : [],\n",
    "      'State' : [],\n",
    "      'Slices' : []}\n",
    "\n",
    "for _, record in frac_df.iterrows():\n",
    "    for ind, (_, state) in enumerate(record[2:].items()):\n",
    "        try:\n",
    "            df['Slices'].append(','.join([str(slc) for slc in frac_df_metadata[record[0]][str(ind+1)]]))\n",
    "            df['StudyInstanceUID'].append(record[0])\n",
    "            df['Vertebra'].append(ind+1)\n",
    "            df['State'].append(state)\n",
    "        except Exception as e:\n",
    "            print(e)\n",
    "            continue\n",
    "    \n",
    "df = pd.DataFrame(df)\n",
    "print(df.shape)\n",
    "df.head()"
   ]
  },
  {
   "cell_type": "code",
   "execution_count": 8,
   "id": "e6964126",
   "metadata": {
    "execution": {
     "iopub.execute_input": "2023-05-06T08:06:36.560588Z",
     "iopub.status.busy": "2023-05-06T08:06:36.560086Z",
     "iopub.status.idle": "2023-05-06T08:06:36.603832Z",
     "shell.execute_reply": "2023-05-06T08:06:36.602624Z"
    },
    "papermill": {
     "duration": 0.053439,
     "end_time": "2023-05-06T08:06:36.606465",
     "exception": false,
     "start_time": "2023-05-06T08:06:36.553026",
     "status": "completed"
    },
    "tags": []
   },
   "outputs": [
    {
     "name": "stdout",
     "output_type": "stream",
     "text": [
      "(14064, 4)\n"
     ]
    }
   ],
   "source": [
    "df = df[df.Slices.apply(lambda x: len(x.split(',')) > 15)]\n",
    "print(df.shape)"
   ]
  },
  {
   "cell_type": "code",
   "execution_count": 9,
   "id": "d2987082",
   "metadata": {
    "execution": {
     "iopub.execute_input": "2023-05-06T08:06:36.620414Z",
     "iopub.status.busy": "2023-05-06T08:06:36.619925Z",
     "iopub.status.idle": "2023-05-06T08:06:37.847641Z",
     "shell.execute_reply": "2023-05-06T08:06:37.846115Z"
    },
    "papermill": {
     "duration": 1.237837,
     "end_time": "2023-05-06T08:06:37.850318",
     "exception": false,
     "start_time": "2023-05-06T08:06:36.612481",
     "status": "completed"
    },
    "tags": []
   },
   "outputs": [
    {
     "data": {
      "text/html": [
       "<div>\n",
       "<style scoped>\n",
       "    .dataframe tbody tr th:only-of-type {\n",
       "        vertical-align: middle;\n",
       "    }\n",
       "\n",
       "    .dataframe tbody tr th {\n",
       "        vertical-align: top;\n",
       "    }\n",
       "\n",
       "    .dataframe thead th {\n",
       "        text-align: right;\n",
       "    }\n",
       "</style>\n",
       "<table border=\"1\" class=\"dataframe\">\n",
       "  <thead>\n",
       "    <tr style=\"text-align: right;\">\n",
       "      <th></th>\n",
       "      <th>0</th>\n",
       "    </tr>\n",
       "  </thead>\n",
       "  <tbody>\n",
       "    <tr>\n",
       "      <th>count</th>\n",
       "      <td>14064.000000</td>\n",
       "    </tr>\n",
       "    <tr>\n",
       "      <th>mean</th>\n",
       "      <td>55.820108</td>\n",
       "    </tr>\n",
       "    <tr>\n",
       "      <th>std</th>\n",
       "      <td>23.756604</td>\n",
       "    </tr>\n",
       "    <tr>\n",
       "      <th>min</th>\n",
       "      <td>16.000000</td>\n",
       "    </tr>\n",
       "    <tr>\n",
       "      <th>25%</th>\n",
       "      <td>39.000000</td>\n",
       "    </tr>\n",
       "    <tr>\n",
       "      <th>50%</th>\n",
       "      <td>50.000000</td>\n",
       "    </tr>\n",
       "    <tr>\n",
       "      <th>75%</th>\n",
       "      <td>67.000000</td>\n",
       "    </tr>\n",
       "    <tr>\n",
       "      <th>max</th>\n",
       "      <td>211.000000</td>\n",
       "    </tr>\n",
       "  </tbody>\n",
       "</table>\n",
       "</div>"
      ],
      "text/plain": [
       "                  0\n",
       "count  14064.000000\n",
       "mean      55.820108\n",
       "std       23.756604\n",
       "min       16.000000\n",
       "25%       39.000000\n",
       "50%       50.000000\n",
       "75%       67.000000\n",
       "max      211.000000"
      ]
     },
     "execution_count": 9,
     "metadata": {},
     "output_type": "execute_result"
    }
   ],
   "source": [
    "# Statistic about number of slices for each vertebra\n",
    "pd.DataFrame([len(df.iloc[i][3].split(',')) for i in range(df.shape[0])]).describe()"
   ]
  },
  {
   "cell_type": "code",
   "execution_count": 10,
   "id": "1ee882a6",
   "metadata": {
    "execution": {
     "iopub.execute_input": "2023-05-06T08:06:37.863735Z",
     "iopub.status.busy": "2023-05-06T08:06:37.863321Z",
     "iopub.status.idle": "2023-05-06T08:06:37.868664Z",
     "shell.execute_reply": "2023-05-06T08:06:37.867516Z"
    },
    "papermill": {
     "duration": 0.015565,
     "end_time": "2023-05-06T08:06:37.871753",
     "exception": false,
     "start_time": "2023-05-06T08:06:37.856188",
     "status": "completed"
    },
    "tags": []
   },
   "outputs": [],
   "source": [
    "os.mkdir('/kaggle/working/cropped_spines')"
   ]
  },
  {
   "cell_type": "code",
   "execution_count": 11,
   "id": "954299af",
   "metadata": {
    "execution": {
     "iopub.execute_input": "2023-05-06T08:06:37.887020Z",
     "iopub.status.busy": "2023-05-06T08:06:37.886600Z",
     "iopub.status.idle": "2023-05-06T08:06:37.891256Z",
     "shell.execute_reply": "2023-05-06T08:06:37.890228Z"
    },
    "papermill": {
     "duration": 0.015243,
     "end_time": "2023-05-06T08:06:37.893521",
     "exception": false,
     "start_time": "2023-05-06T08:06:37.878278",
     "status": "completed"
    },
    "tags": []
   },
   "outputs": [],
   "source": [
    "save_path = Path('/kaggle/working/cropped_spines')"
   ]
  },
  {
   "cell_type": "code",
   "execution_count": 12,
   "id": "d2de990d",
   "metadata": {
    "execution": {
     "iopub.execute_input": "2023-05-06T08:06:37.907888Z",
     "iopub.status.busy": "2023-05-06T08:06:37.906981Z",
     "iopub.status.idle": "2023-05-06T08:06:37.913770Z",
     "shell.execute_reply": "2023-05-06T08:06:37.912456Z"
    },
    "papermill": {
     "duration": 0.016865,
     "end_time": "2023-05-06T08:06:37.916395",
     "exception": false,
     "start_time": "2023-05-06T08:06:37.899530",
     "status": "completed"
    },
    "tags": []
   },
   "outputs": [
    {
     "data": {
      "text/plain": [
       "(14064, 4)"
      ]
     },
     "execution_count": 12,
     "metadata": {},
     "output_type": "execute_result"
    }
   ],
   "source": [
    "df.shape"
   ]
  },
  {
   "cell_type": "code",
   "execution_count": 13,
   "id": "cb56b4af",
   "metadata": {
    "execution": {
     "iopub.execute_input": "2023-05-06T08:06:37.930919Z",
     "iopub.status.busy": "2023-05-06T08:06:37.929858Z",
     "iopub.status.idle": "2023-05-06T08:06:38.029840Z",
     "shell.execute_reply": "2023-05-06T08:06:38.028472Z"
    },
    "papermill": {
     "duration": 0.110646,
     "end_time": "2023-05-06T08:06:38.032925",
     "exception": false,
     "start_time": "2023-05-06T08:06:37.922279",
     "status": "completed"
    },
    "tags": []
   },
   "outputs": [],
   "source": [
    "from tqdm.contrib.concurrent import process_map"
   ]
  },
  {
   "cell_type": "code",
   "execution_count": 14,
   "id": "a82897fd",
   "metadata": {
    "execution": {
     "iopub.execute_input": "2023-05-06T08:06:38.047417Z",
     "iopub.status.busy": "2023-05-06T08:06:38.047011Z",
     "iopub.status.idle": "2023-05-06T08:06:38.052448Z",
     "shell.execute_reply": "2023-05-06T08:06:38.051238Z"
    },
    "papermill": {
     "duration": 0.01608,
     "end_time": "2023-05-06T08:06:38.055368",
     "exception": false,
     "start_time": "2023-05-06T08:06:38.039288",
     "status": "completed"
    },
    "tags": []
   },
   "outputs": [],
   "source": [
    "# df = df.iloc[:100, :]"
   ]
  },
  {
   "cell_type": "code",
   "execution_count": 15,
   "id": "2c910271",
   "metadata": {
    "execution": {
     "iopub.execute_input": "2023-05-06T08:06:38.070241Z",
     "iopub.status.busy": "2023-05-06T08:06:38.069526Z",
     "iopub.status.idle": "2023-05-06T09:43:22.785535Z",
     "shell.execute_reply": "2023-05-06T09:43:22.782662Z"
    },
    "papermill": {
     "duration": 5804.728652,
     "end_time": "2023-05-06T09:43:22.790305",
     "exception": false,
     "start_time": "2023-05-06T08:06:38.061653",
     "status": "completed"
    },
    "tags": []
   },
   "outputs": [
    {
     "name": "stderr",
     "output_type": "stream",
     "text": [
      " 52%|█████▏    | 7272/14064 [50:33<1:37:18,  1.16it/s]"
     ]
    },
    {
     "name": "stdout",
     "output_type": "stream",
     "text": [
      "Error at load_dicom\n"
     ]
    },
    {
     "name": "stderr",
     "output_type": "stream",
     "text": [
      "100%|██████████| 14064/14064 [1:36:44<00:00,  2.42it/s]\n"
     ]
    }
   ],
   "source": [
    "import sys\n",
    "import numpy as np\n",
    "import numpy.lib.format\n",
    "import struct\n",
    "\n",
    "def save(file, array):\n",
    "    magic_string=b\"\\x93NUMPY\\x01\\x00v\\x00\"\n",
    "    header=bytes((\"{'descr': '\"+array.dtype.descr[0][1]+\"', 'fortran_order': False, 'shape': \"+str(array.shape)+\", }\").ljust(127-len(magic_string))+\"\\n\",'utf-8')\n",
    "    if type(file) == str:\n",
    "        file=open(file,\"wb\")\n",
    "    file.write(magic_string)\n",
    "    file.write(header)\n",
    "    file.write(array.tobytes())\n",
    "    \n",
    "def load(file):\n",
    "    if type(file) == str:\n",
    "        file=open(file,\"rb\")\n",
    "    header = file.read(128)\n",
    "    if not header:\n",
    "        return None\n",
    "    descr = str(header[19:25], 'utf-8').replace(\"'\",\"\").replace(\" \",\"\")\n",
    "    shape = tuple(int(num) for num in str(header[60:120], 'utf-8').replace(', }', '').replace('(', '').replace(')', '').split(','))\n",
    "    datasize = numpy.lib.format.descr_to_dtype(descr).itemsize\n",
    "    for dimension in shape:\n",
    "        datasize *= dimension\n",
    "    return np.ndarray(shape, dtype=descr, buffer=file.read(datasize))\n",
    "\n",
    "def extract_proportional_elements(arr, T_size = 32):\n",
    "    length_of_array = len(arr)\n",
    "\n",
    "    if length_of_array == T_size:\n",
    "        return arr\n",
    "    elif length_of_array > T_size:\n",
    "        step_size = length_of_array / T_size\n",
    "        current_index = 0\n",
    "        result_list = []\n",
    "        for i in range(T_size):\n",
    "            next_index = int(current_index + step_size)\n",
    "            if next_index >= length_of_array:\n",
    "                next_index = length_of_array - 1\n",
    "            result_list.append(arr[next_index])\n",
    "            current_index = next_index\n",
    "        return result_list\n",
    "    else:\n",
    "        result_list = []\n",
    "        num_copies = T_size // length_of_array\n",
    "        for i in range(num_copies):\n",
    "            result_list.extend(arr)\n",
    "\n",
    "        remainder = T_size - len(result_list)\n",
    "\n",
    "        if remainder != 0:\n",
    "            step_size = length_of_array / remainder\n",
    "            current_index = 0\n",
    "            for i in range(remainder):\n",
    "                next_index = current_index + step_size\n",
    "                if next_index >= length_of_array:\n",
    "                    next_index = length_of_array - 1\n",
    "                result_list.append(arr[int(next_index)])\n",
    "                current_index = next_index\n",
    "        return sorted(result_list)\n",
    "\n",
    "def compute_bounding_rect(mask):\n",
    "    # compute rects\n",
    "    bRects = [cv.boundingRect(mask[:, :, i]) for i in range(5, 32, 5)]\n",
    "    # compute centers\n",
    "    bRects = [(rect[0] + int(rect[2] / 2), rect[1] + int(rect[3] / 2)) for rect in bRects]\n",
    "    # compute mean\n",
    "    x, y = np.array(bRects).mean(axis=0).astype(int)\n",
    "    # calculate compensation\n",
    "    x_compensation = max(-(x - 112), 0) + min(-(x + 112 - 512), 0)\n",
    "    y_compensation = max(-(y - 112), 0) + min(-(y + 112 - 512), 0)\n",
    "    # apply compensation and use \n",
    "    x, y = x + x_compensation, y + y_compensation\n",
    "    x1, y1, x2, y2 = (\n",
    "        x - 112, y - 112, x + 112, y + 112\n",
    "    )\n",
    "    return (x1, y1, x2, y2)\n",
    "\n",
    "def load_dicom(path):\n",
    "    # Source: https://www.kaggle.com/code/vslaykovsky/pytorch-effnetv2-vertebrae-detection-acc-0-95\n",
    "    try:\n",
    "        img=dicom.dcmread(path)\n",
    "    except:\n",
    "        print('Error at load_dicom')\n",
    "        return np.zeros((512, 512))\n",
    "    img.PhotometricInterpretation = 'YBR_FULL'\n",
    "    data = img.pixel_array\n",
    "    data = data - np.min(data)\n",
    "    if np.max(data) != 0:\n",
    "        data = data / np.max(data)\n",
    "    data=(data * 255).astype(np.uint8)\n",
    "    return data\n",
    "\n",
    "def main(record):\n",
    "    _, record = record\n",
    "    uid = record[0]\n",
    "    vertebra = record[1]\n",
    "    state = record[2]\n",
    "    slices = extract_proportional_elements([int(slc) for slc in record[3].split(',')])\n",
    "    \n",
    "    mask = load_npz(segm_path / (uid + '.npz'))[:, [slice_number - 1 for slice_number in slices]].toarray().reshape((512, 512, -1)).astype(np.uint8)\n",
    "    mask = (mask == vertebra).astype(np.uint8)\n",
    "    \n",
    "    bRects = compute_bounding_rect(mask)\n",
    "    \n",
    "    imgs = np.zeros((512, 512, len(slices)))\n",
    "    for i, slc in enumerate(slices):\n",
    "        imgs[:, :, i] = load_dicom(dicom_path / uid / (str(slc) + '.dcm'))\n",
    "    #imgs_masks = np.transpose(np.stack([imgs, mask]), axes=(0, 3, 1, 2))[:, :, bRects[1]:bRects[3], bRects[0]:bRects[2]].astype(np.uint8)\n",
    "    imgs = np.transpose(imgs, axes=(2, 0, 1))[:, bRects[1]:bRects[3], bRects[0]:bRects[2]].astype(np.uint8)\n",
    "    masks = np.packbits(np.transpose(mask, axes=(2, 0, 1))[:, bRects[1]:bRects[3], bRects[0]:bRects[2]].astype(bool), axis=None)\n",
    "    \n",
    "    np.savez_compressed(str(save_path / f'{uid}_{vertebra}_{state}'), imgs = imgs, masks=masks)\n",
    "    \n",
    "    #save(str(save_path / f'{uid}_{vertebra}_{state}_imgs.npy'), imgs)\n",
    "    #save(str(save_path / f'{uid}_{vertebra}_{state}_masks.npy'), masks)\n",
    "\n",
    "with ThreadPool(os.cpu_count()) as pool:\n",
    "    max_ = df.shape[0]\n",
    "    with tqdm(total=max_) as pbar:\n",
    "        for _ in pool.imap_unordered(main, df.iterrows()):\n",
    "            pbar.update()\n",
    "    #tqdm(pool.map(main, df.iterrows()), total = df.shape[0])\n",
    "\n",
    "#for _, record in tqdm(df.iterrows(), total=df.shape[0]):"
   ]
  },
  {
   "cell_type": "code",
   "execution_count": 16,
   "id": "afee8358",
   "metadata": {
    "execution": {
     "iopub.execute_input": "2023-05-06T09:43:24.618177Z",
     "iopub.status.busy": "2023-05-06T09:43:24.617492Z",
     "iopub.status.idle": "2023-05-06T09:43:24.626014Z",
     "shell.execute_reply": "2023-05-06T09:43:24.624505Z"
    },
    "papermill": {
     "duration": 0.991293,
     "end_time": "2023-05-06T09:43:24.628354",
     "exception": false,
     "start_time": "2023-05-06T09:43:23.637061",
     "status": "completed"
    },
    "tags": []
   },
   "outputs": [],
   "source": [
    "# import zipfile\n",
    "    \n",
    "# def zipdir(path, ziph):\n",
    "#     for root, dirs, files in os.walk(path):\n",
    "#         for file in files:\n",
    "#             ziph.write(os.path.join(root, file), \n",
    "#                        os.path.relpath(os.path.join(root, file), \n",
    "#                                        os.path.join(path, '..')))\n",
    "\n",
    "# with zipfile.ZipFile('/kaggle/working/cropped_spines.zip', 'w', zipfile.ZIP_DEFLATED) as zipf:\n",
    "#     zipdir('/kaggle/working/cropped_spines', zipf)"
   ]
  },
  {
   "cell_type": "code",
   "execution_count": 17,
   "id": "ff625260",
   "metadata": {
    "execution": {
     "iopub.execute_input": "2023-05-06T09:43:26.292297Z",
     "iopub.status.busy": "2023-05-06T09:43:26.291811Z",
     "iopub.status.idle": "2023-05-06T09:43:26.296581Z",
     "shell.execute_reply": "2023-05-06T09:43:26.295329Z"
    },
    "papermill": {
     "duration": 0.8389,
     "end_time": "2023-05-06T09:43:26.298897",
     "exception": false,
     "start_time": "2023-05-06T09:43:25.459997",
     "status": "completed"
    },
    "tags": []
   },
   "outputs": [],
   "source": [
    "# import shutil\n",
    "# shutil.rmtree(save_path)"
   ]
  },
  {
   "cell_type": "code",
   "execution_count": null,
   "id": "fc492de9",
   "metadata": {
    "papermill": {
     "duration": 0.862955,
     "end_time": "2023-05-06T09:43:28.148596",
     "exception": false,
     "start_time": "2023-05-06T09:43:27.285641",
     "status": "completed"
    },
    "tags": []
   },
   "outputs": [],
   "source": []
  }
 ],
 "metadata": {
  "kernelspec": {
   "display_name": "Python 3",
   "language": "python",
   "name": "python3"
  },
  "language_info": {
   "codemirror_mode": {
    "name": "ipython",
    "version": 3
   },
   "file_extension": ".py",
   "mimetype": "text/x-python",
   "name": "python",
   "nbconvert_exporter": "python",
   "pygments_lexer": "ipython3",
   "version": "3.10.10"
  },
  "papermill": {
   "default_parameters": {},
   "duration": 5843.87425,
   "end_time": "2023-05-06T09:43:31.779739",
   "environment_variables": {},
   "exception": null,
   "input_path": "__notebook__.ipynb",
   "output_path": "__notebook__.ipynb",
   "parameters": {},
   "start_time": "2023-05-06T08:06:07.905489",
   "version": "2.4.0"
  }
 },
 "nbformat": 4,
 "nbformat_minor": 5
}
