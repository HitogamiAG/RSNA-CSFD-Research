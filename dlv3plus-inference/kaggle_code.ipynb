{
 "cells": [
  {
   "cell_type": "code",
   "execution_count": 1,
   "id": "e9351c50",
   "metadata": {
    "_cell_guid": "b1076dfc-b9ad-4769-8c92-a6c4dae69d19",
    "_uuid": "8f2839f25d086af736a60e9eeb907d3b93b6e0e5",
    "execution": {
     "iopub.execute_input": "2023-05-02T06:09:55.837805Z",
     "iopub.status.busy": "2023-05-02T06:09:55.837318Z",
     "iopub.status.idle": "2023-05-02T06:10:08.853344Z",
     "shell.execute_reply": "2023-05-02T06:10:08.851790Z"
    },
    "papermill": {
     "duration": 13.02624,
     "end_time": "2023-05-02T06:10:08.856238",
     "exception": false,
     "start_time": "2023-05-02T06:09:55.829998",
     "status": "completed"
    },
    "tags": []
   },
   "outputs": [
    {
     "name": "stdout",
     "output_type": "stream",
     "text": [
      "Collecting pylibjpeg\r\n",
      "  Downloading pylibjpeg-1.4.0-py3-none-any.whl (28 kB)\r\n",
      "Collecting pylibjpeg-libjpeg\r\n",
      "  Downloading pylibjpeg_libjpeg-1.3.4-cp37-cp37m-manylinux_2_17_x86_64.manylinux2014_x86_64.whl (4.3 MB)\r\n",
      "\u001b[2K     \u001b[90m━━━━━━━━━━━━━━━━━━━━━━━━━━━━━━━━━━━━━━━━\u001b[0m \u001b[32m4.3/4.3 MB\u001b[0m \u001b[31m45.1 MB/s\u001b[0m eta \u001b[36m0:00:00\u001b[0m\r\n",
      "\u001b[?25hRequirement already satisfied: pydicom in /opt/conda/lib/python3.7/site-packages (2.3.1)\r\n",
      "Collecting python-gdcm\r\n",
      "  Downloading python_gdcm-3.0.21-cp37-cp37m-manylinux_2_17_x86_64.manylinux2014_x86_64.whl (13.0 MB)\r\n",
      "\u001b[2K     \u001b[90m━━━━━━━━━━━━━━━━━━━━━━━━━━━━━━━━━━━━━━━━\u001b[0m \u001b[32m13.0/13.0 MB\u001b[0m \u001b[31m62.9 MB/s\u001b[0m eta \u001b[36m0:00:00\u001b[0m\r\n",
      "\u001b[?25hRequirement already satisfied: numpy in /opt/conda/lib/python3.7/site-packages (from pylibjpeg) (1.21.6)\r\n",
      "Installing collected packages: python-gdcm, pylibjpeg-libjpeg, pylibjpeg\r\n",
      "Successfully installed pylibjpeg-1.4.0 pylibjpeg-libjpeg-1.3.4 python-gdcm-3.0.21\r\n",
      "\u001b[33mWARNING: Running pip as the 'root' user can result in broken permissions and conflicting behaviour with the system package manager. It is recommended to use a virtual environment instead: https://pip.pypa.io/warnings/venv\u001b[0m\u001b[33m\r\n",
      "\u001b[0m"
     ]
    }
   ],
   "source": [
    "!pip3 install pylibjpeg pylibjpeg-libjpeg pydicom python-gdcm"
   ]
  },
  {
   "cell_type": "code",
   "execution_count": 2,
   "id": "ede6fa2b",
   "metadata": {
    "execution": {
     "iopub.execute_input": "2023-05-02T06:10:08.869254Z",
     "iopub.status.busy": "2023-05-02T06:10:08.868923Z",
     "iopub.status.idle": "2023-05-02T06:10:15.317200Z",
     "shell.execute_reply": "2023-05-02T06:10:15.315853Z"
    },
    "papermill": {
     "duration": 6.45852,
     "end_time": "2023-05-02T06:10:15.320515",
     "exception": false,
     "start_time": "2023-05-02T06:10:08.861995",
     "status": "completed"
    },
    "tags": []
   },
   "outputs": [],
   "source": [
    "import os, cv2 as cv\n",
    "import json\n",
    "import numpy as np\n",
    "import pandas as pd\n",
    "import random, tqdm\n",
    "import seaborn as sns\n",
    "import matplotlib.pyplot as plt\n",
    "%matplotlib inline\n",
    "\n",
    "from tqdm import tqdm\n",
    "import warnings\n",
    "warnings.filterwarnings(\"ignore\")\n",
    "\n",
    "import torch\n",
    "import torch.nn as nn\n",
    "from torch.utils.data import DataLoader, Dataset\n",
    "import albumentations as album\n",
    "\n",
    "from scipy.sparse import csr_matrix, save_npz, load_npz\n",
    "\n",
    "from pathlib import Path\n",
    "import pydicom as dicom\n",
    "import nibabel as nib\n",
    "from time import time\n",
    "from sklearn.model_selection import train_test_split\n",
    "import wandb"
   ]
  },
  {
   "cell_type": "code",
   "execution_count": 3,
   "id": "31da3846",
   "metadata": {
    "execution": {
     "iopub.execute_input": "2023-05-02T06:10:15.333054Z",
     "iopub.status.busy": "2023-05-02T06:10:15.332684Z",
     "iopub.status.idle": "2023-05-02T06:10:32.536002Z",
     "shell.execute_reply": "2023-05-02T06:10:32.534633Z"
    },
    "papermill": {
     "duration": 17.214208,
     "end_time": "2023-05-02T06:10:32.540251",
     "exception": false,
     "start_time": "2023-05-02T06:10:15.326043",
     "status": "completed"
    },
    "tags": []
   },
   "outputs": [
    {
     "name": "stdout",
     "output_type": "stream",
     "text": [
      "\u001b[33mWARNING: Running pip as the 'root' user can result in broken permissions and conflicting behaviour with the system package manager. It is recommended to use a virtual environment instead: https://pip.pypa.io/warnings/venv\u001b[0m\u001b[33m\r\n",
      "\u001b[0m"
     ]
    }
   ],
   "source": [
    "!pip install -q -U segmentation-models-pytorch albumentations > /dev/null\n",
    "import segmentation_models_pytorch as smp"
   ]
  },
  {
   "cell_type": "code",
   "execution_count": 4,
   "id": "961f8b62",
   "metadata": {
    "execution": {
     "iopub.execute_input": "2023-05-02T06:10:32.558820Z",
     "iopub.status.busy": "2023-05-02T06:10:32.558387Z",
     "iopub.status.idle": "2023-05-02T06:10:32.568676Z",
     "shell.execute_reply": "2023-05-02T06:10:32.567675Z"
    },
    "papermill": {
     "duration": 0.023497,
     "end_time": "2023-05-02T06:10:32.571814",
     "exception": false,
     "start_time": "2023-05-02T06:10:32.548317",
     "status": "completed"
    },
    "tags": []
   },
   "outputs": [],
   "source": [
    "torch.manual_seed(42)\n",
    "np.random.seed(42)\n",
    "torch.cuda.manual_seed(42)\n",
    "torch.backends.cudnn.deterministic = True\n",
    "torch.backends.cudnn.benchmark = True"
   ]
  },
  {
   "cell_type": "code",
   "execution_count": 5,
   "id": "6e60b779",
   "metadata": {
    "execution": {
     "iopub.execute_input": "2023-05-02T06:10:32.588821Z",
     "iopub.status.busy": "2023-05-02T06:10:32.588462Z",
     "iopub.status.idle": "2023-05-02T06:10:32.594243Z",
     "shell.execute_reply": "2023-05-02T06:10:32.593170Z"
    },
    "papermill": {
     "duration": 0.019316,
     "end_time": "2023-05-02T06:10:32.598988",
     "exception": false,
     "start_time": "2023-05-02T06:10:32.579672",
     "status": "completed"
    },
    "tags": []
   },
   "outputs": [],
   "source": [
    "dicom_path = Path('/kaggle/input/rsna-2022-cervical-spine-fracture-detection/train_images/')\n",
    "segm_path = Path('/kaggle/input/rsna-2022-cervical-spine-fracture-detection/segmentations/')\n",
    "bounds_path = Path('/kaggle/input/ct-lowhigh-bounds/ct_lowhigh_bounds.csv')\n",
    "model_path = Path('/kaggle/input/effnetv2s-slicet-and-num')\n",
    "checkpoint_path = Path('./checkpoints/')"
   ]
  },
  {
   "cell_type": "code",
   "execution_count": 6,
   "id": "bd994845",
   "metadata": {
    "execution": {
     "iopub.execute_input": "2023-05-02T06:10:32.615600Z",
     "iopub.status.busy": "2023-05-02T06:10:32.615278Z",
     "iopub.status.idle": "2023-05-02T06:10:36.292880Z",
     "shell.execute_reply": "2023-05-02T06:10:36.291809Z"
    },
    "papermill": {
     "duration": 3.688903,
     "end_time": "2023-05-02T06:10:36.295831",
     "exception": false,
     "start_time": "2023-05-02T06:10:32.606928",
     "status": "completed"
    },
    "tags": []
   },
   "outputs": [
    {
     "name": "stderr",
     "output_type": "stream",
     "text": [
      "Downloading: \"https://github.com/rwightman/pytorch-image-models/releases/download/v0.1-effv2-weights/tf_efficientnetv2_m-cc09e0cd.pth\" to /root/.cache/torch/hub/checkpoints/tf_efficientnetv2_m-cc09e0cd.pth\n"
     ]
    }
   ],
   "source": [
    "ENCODER = 'tu-tf_efficientnetv2_m'\n",
    "ENCODER_WEIGHTS = 'imagenet'\n",
    "CLASSES = ['background', 'C1', 'C2', 'C3', 'C4', 'C5', 'C6', 'C7', 'others']\n",
    "ACTIVATION = 'softmax2d' # could be None for logits or 'softmax2d' for multiclass segmentation\n",
    "\n",
    "# create segmentation model with pretrained encoder\n",
    "model = smp.DeepLabV3Plus(\n",
    "    encoder_name=ENCODER, \n",
    "    encoder_weights=ENCODER_WEIGHTS, \n",
    "    classes=len(CLASSES), \n",
    "    activation=ACTIVATION\n",
    ")\n",
    "\n",
    "preprocessing_fn = smp.encoders.get_preprocessing_fn(ENCODER, ENCODER_WEIGHTS)"
   ]
  },
  {
   "cell_type": "code",
   "execution_count": 7,
   "id": "2cf3b928",
   "metadata": {
    "execution": {
     "iopub.execute_input": "2023-05-02T06:10:36.321229Z",
     "iopub.status.busy": "2023-05-02T06:10:36.319083Z",
     "iopub.status.idle": "2023-05-02T06:10:42.213655Z",
     "shell.execute_reply": "2023-05-02T06:10:42.212462Z"
    },
    "papermill": {
     "duration": 5.913659,
     "end_time": "2023-05-02T06:10:42.216932",
     "exception": false,
     "start_time": "2023-05-02T06:10:36.303273",
     "status": "completed"
    },
    "tags": []
   },
   "outputs": [],
   "source": [
    "model.to('cuda')\n",
    "weights = torch.load('/kaggle/input/best-segm-model/best_model.pth')#, map_location=torch.device('cpu'))\n",
    "model = nn.DataParallel(model)\n",
    "model.load_state_dict(weights.state_dict())\n",
    "model.eval()\n",
    "\n",
    "for param in model.parameters():\n",
    "    param.requires_grad = False"
   ]
  },
  {
   "cell_type": "code",
   "execution_count": 8,
   "id": "6fe7e0fb",
   "metadata": {
    "execution": {
     "iopub.execute_input": "2023-05-02T06:10:42.230145Z",
     "iopub.status.busy": "2023-05-02T06:10:42.229761Z",
     "iopub.status.idle": "2023-05-02T06:10:42.235217Z",
     "shell.execute_reply": "2023-05-02T06:10:42.233843Z"
    },
    "papermill": {
     "duration": 0.015237,
     "end_time": "2023-05-02T06:10:42.237843",
     "exception": false,
     "start_time": "2023-05-02T06:10:42.222606",
     "status": "completed"
    },
    "tags": []
   },
   "outputs": [],
   "source": [
    "BATCH_SIZE = 16"
   ]
  },
  {
   "cell_type": "code",
   "execution_count": 9,
   "id": "1863479f",
   "metadata": {
    "execution": {
     "iopub.execute_input": "2023-05-02T06:10:42.250523Z",
     "iopub.status.busy": "2023-05-02T06:10:42.250151Z",
     "iopub.status.idle": "2023-05-02T06:10:42.256721Z",
     "shell.execute_reply": "2023-05-02T06:10:42.255619Z"
    },
    "papermill": {
     "duration": 0.0158,
     "end_time": "2023-05-02T06:10:42.259106",
     "exception": false,
     "start_time": "2023-05-02T06:10:42.243306",
     "status": "completed"
    },
    "tags": []
   },
   "outputs": [],
   "source": [
    "def to_tensor(x, **kwargs):\n",
    "    return x.transpose(2, 0, 1).astype('float32')\n",
    "\n",
    "def get_preprocessing(preprocessing_fn=None):\n",
    "    \"\"\"Construct preprocessing transform    \n",
    "    Args:\n",
    "        preprocessing_fn (callable): data normalization function \n",
    "            (can be specific for each pretrained neural network)\n",
    "    Return:\n",
    "        transform: albumentations.Compose\n",
    "    \"\"\"   \n",
    "    _transform = []\n",
    "    if preprocessing_fn:\n",
    "        _transform.append(album.Lambda(image=preprocessing_fn))\n",
    "    _transform.append(album.Lambda(image=to_tensor))\n",
    "        \n",
    "    return album.Compose(_transform)"
   ]
  },
  {
   "cell_type": "code",
   "execution_count": 10,
   "id": "761edeac",
   "metadata": {
    "execution": {
     "iopub.execute_input": "2023-05-02T06:10:42.273108Z",
     "iopub.status.busy": "2023-05-02T06:10:42.272762Z",
     "iopub.status.idle": "2023-05-02T06:11:11.236007Z",
     "shell.execute_reply": "2023-05-02T06:11:11.234024Z"
    },
    "papermill": {
     "duration": 28.97231,
     "end_time": "2023-05-02T06:11:11.238567",
     "exception": false,
     "start_time": "2023-05-02T06:10:42.266257",
     "status": "completed"
    },
    "tags": []
   },
   "outputs": [
    {
     "name": "stderr",
     "output_type": "stream",
     "text": [
      "387it [00:05, 77.12it/s]"
     ]
    },
    {
     "name": "stdout",
     "output_type": "stream",
     "text": [
      "/kaggle/input/rsna-2022-cervical-spine-fracture-detection/train_images/1.2.826.0.1.3680043.17166\n"
     ]
    },
    {
     "name": "stderr",
     "output_type": "stream",
     "text": [
      "2019it [00:28, 69.75it/s]\n"
     ]
    }
   ],
   "source": [
    "wront_resolution_list = []\n",
    "for patient in tqdm(dicom_path.iterdir()):\n",
    "    try:\n",
    "        md = dicom.dcmread(patient / '10.dcm')\n",
    "    except:\n",
    "        print(patient)\n",
    "        continue\n",
    "    rows, columns = md.Rows, md.Columns\n",
    "    if rows != 512 or columns != 512:\n",
    "        wront_resolution_list.append(patient)"
   ]
  },
  {
   "cell_type": "code",
   "execution_count": 11,
   "id": "117ad0d6",
   "metadata": {
    "execution": {
     "iopub.execute_input": "2023-05-02T06:11:11.282103Z",
     "iopub.status.busy": "2023-05-02T06:11:11.281180Z",
     "iopub.status.idle": "2023-05-02T06:11:11.288317Z",
     "shell.execute_reply": "2023-05-02T06:11:11.287044Z"
    },
    "papermill": {
     "duration": 0.031641,
     "end_time": "2023-05-02T06:11:11.291132",
     "exception": false,
     "start_time": "2023-05-02T06:11:11.259491",
     "status": "completed"
    },
    "tags": []
   },
   "outputs": [],
   "source": [
    "wront_resolution_list = [str(wrong_uid).split('/')[-1] for wrong_uid in wront_resolution_list]"
   ]
  },
  {
   "cell_type": "code",
   "execution_count": 12,
   "id": "4cbfa299",
   "metadata": {
    "execution": {
     "iopub.execute_input": "2023-05-02T06:11:11.337832Z",
     "iopub.status.busy": "2023-05-02T06:11:11.336697Z",
     "iopub.status.idle": "2023-05-02T06:11:11.346685Z",
     "shell.execute_reply": "2023-05-02T06:11:11.345555Z"
    },
    "papermill": {
     "duration": 0.036429,
     "end_time": "2023-05-02T06:11:11.349439",
     "exception": false,
     "start_time": "2023-05-02T06:11:11.313010",
     "status": "completed"
    },
    "tags": []
   },
   "outputs": [
    {
     "data": {
      "text/plain": [
       "['1.2.826.0.1.3680043.22678',\n",
       " '1.2.826.0.1.3680043.23400',\n",
       " '1.2.826.0.1.3680043.8858',\n",
       " '1.2.826.0.1.3680043.17166']"
      ]
     },
     "execution_count": 12,
     "metadata": {},
     "output_type": "execute_result"
    }
   ],
   "source": [
    "wront_resolution_list.append('1.2.826.0.1.3680043.17166')\n",
    "wront_resolution_list"
   ]
  },
  {
   "cell_type": "code",
   "execution_count": 13,
   "id": "aba8330d",
   "metadata": {
    "execution": {
     "iopub.execute_input": "2023-05-02T06:11:11.394410Z",
     "iopub.status.busy": "2023-05-02T06:11:11.394087Z",
     "iopub.status.idle": "2023-05-02T06:11:11.439336Z",
     "shell.execute_reply": "2023-05-02T06:11:11.438028Z"
    },
    "papermill": {
     "duration": 0.071464,
     "end_time": "2023-05-02T06:11:11.442339",
     "exception": false,
     "start_time": "2023-05-02T06:11:11.370875",
     "status": "completed"
    },
    "tags": []
   },
   "outputs": [
    {
     "data": {
      "text/html": [
       "<div>\n",
       "<style scoped>\n",
       "    .dataframe tbody tr th:only-of-type {\n",
       "        vertical-align: middle;\n",
       "    }\n",
       "\n",
       "    .dataframe tbody tr th {\n",
       "        vertical-align: top;\n",
       "    }\n",
       "\n",
       "    .dataframe thead th {\n",
       "        text-align: right;\n",
       "    }\n",
       "</style>\n",
       "<table border=\"1\" class=\"dataframe\">\n",
       "  <thead>\n",
       "    <tr style=\"text-align: right;\">\n",
       "      <th></th>\n",
       "      <th>StudyInstanceUID</th>\n",
       "      <th>TotalSlices</th>\n",
       "      <th>C1_lb</th>\n",
       "      <th>C1_hb</th>\n",
       "      <th>C2_lb</th>\n",
       "      <th>C2_hb</th>\n",
       "      <th>C3_lb</th>\n",
       "      <th>C3_hb</th>\n",
       "      <th>C4_lb</th>\n",
       "      <th>C4_hb</th>\n",
       "      <th>C5_lb</th>\n",
       "      <th>C5_hb</th>\n",
       "      <th>C6_lb</th>\n",
       "      <th>C6_hb</th>\n",
       "      <th>C7_lb</th>\n",
       "      <th>C7_hb</th>\n",
       "    </tr>\n",
       "  </thead>\n",
       "  <tbody>\n",
       "    <tr>\n",
       "      <th>0</th>\n",
       "      <td>1.2.826.0.1.3680043.17625</td>\n",
       "      <td>239</td>\n",
       "      <td>30</td>\n",
       "      <td>96</td>\n",
       "      <td>35</td>\n",
       "      <td>122</td>\n",
       "      <td>72</td>\n",
       "      <td>137</td>\n",
       "      <td>90</td>\n",
       "      <td>158</td>\n",
       "      <td>109</td>\n",
       "      <td>180</td>\n",
       "      <td>123</td>\n",
       "      <td>198</td>\n",
       "      <td>143</td>\n",
       "      <td>220</td>\n",
       "    </tr>\n",
       "    <tr>\n",
       "      <th>1</th>\n",
       "      <td>1.2.826.0.1.3680043.3850</td>\n",
       "      <td>688</td>\n",
       "      <td>49</td>\n",
       "      <td>235</td>\n",
       "      <td>66</td>\n",
       "      <td>314</td>\n",
       "      <td>165</td>\n",
       "      <td>351</td>\n",
       "      <td>194</td>\n",
       "      <td>405</td>\n",
       "      <td>238</td>\n",
       "      <td>465</td>\n",
       "      <td>284</td>\n",
       "      <td>513</td>\n",
       "      <td>321</td>\n",
       "      <td>578</td>\n",
       "    </tr>\n",
       "    <tr>\n",
       "      <th>2</th>\n",
       "      <td>1.2.826.0.1.3680043.2286</td>\n",
       "      <td>333</td>\n",
       "      <td>34</td>\n",
       "      <td>125</td>\n",
       "      <td>41</td>\n",
       "      <td>162</td>\n",
       "      <td>92</td>\n",
       "      <td>182</td>\n",
       "      <td>112</td>\n",
       "      <td>210</td>\n",
       "      <td>136</td>\n",
       "      <td>240</td>\n",
       "      <td>157</td>\n",
       "      <td>264</td>\n",
       "      <td>180</td>\n",
       "      <td>295</td>\n",
       "    </tr>\n",
       "    <tr>\n",
       "      <th>3</th>\n",
       "      <td>1.2.826.0.1.3680043.14435</td>\n",
       "      <td>618</td>\n",
       "      <td>46</td>\n",
       "      <td>213</td>\n",
       "      <td>61</td>\n",
       "      <td>284</td>\n",
       "      <td>151</td>\n",
       "      <td>318</td>\n",
       "      <td>178</td>\n",
       "      <td>367</td>\n",
       "      <td>218</td>\n",
       "      <td>421</td>\n",
       "      <td>259</td>\n",
       "      <td>464</td>\n",
       "      <td>293</td>\n",
       "      <td>522</td>\n",
       "    </tr>\n",
       "    <tr>\n",
       "      <th>4</th>\n",
       "      <td>1.2.826.0.1.3680043.3442</td>\n",
       "      <td>336</td>\n",
       "      <td>34</td>\n",
       "      <td>126</td>\n",
       "      <td>41</td>\n",
       "      <td>164</td>\n",
       "      <td>93</td>\n",
       "      <td>183</td>\n",
       "      <td>113</td>\n",
       "      <td>212</td>\n",
       "      <td>137</td>\n",
       "      <td>242</td>\n",
       "      <td>158</td>\n",
       "      <td>266</td>\n",
       "      <td>181</td>\n",
       "      <td>297</td>\n",
       "    </tr>\n",
       "  </tbody>\n",
       "</table>\n",
       "</div>"
      ],
      "text/plain": [
       "            StudyInstanceUID  TotalSlices  C1_lb  C1_hb  C2_lb  C2_hb  C3_lb  \\\n",
       "0  1.2.826.0.1.3680043.17625          239     30     96     35    122     72   \n",
       "1   1.2.826.0.1.3680043.3850          688     49    235     66    314    165   \n",
       "2   1.2.826.0.1.3680043.2286          333     34    125     41    162     92   \n",
       "3  1.2.826.0.1.3680043.14435          618     46    213     61    284    151   \n",
       "4   1.2.826.0.1.3680043.3442          336     34    126     41    164     93   \n",
       "\n",
       "   C3_hb  C4_lb  C4_hb  C5_lb  C5_hb  C6_lb  C6_hb  C7_lb  C7_hb  \n",
       "0    137     90    158    109    180    123    198    143    220  \n",
       "1    351    194    405    238    465    284    513    321    578  \n",
       "2    182    112    210    136    240    157    264    180    295  \n",
       "3    318    178    367    218    421    259    464    293    522  \n",
       "4    183    113    212    137    242    158    266    181    297  "
      ]
     },
     "execution_count": 13,
     "metadata": {},
     "output_type": "execute_result"
    }
   ],
   "source": [
    "bounds_df = pd.read_csv('/kaggle/input/ct-lowhigh-bounds/ct_lowhigh_bounds.csv', index_col=0)\n",
    "bounds_df.head()"
   ]
  },
  {
   "cell_type": "code",
   "execution_count": 14,
   "id": "35be3f2a",
   "metadata": {
    "execution": {
     "iopub.execute_input": "2023-05-02T06:11:11.486315Z",
     "iopub.status.busy": "2023-05-02T06:11:11.486019Z",
     "iopub.status.idle": "2023-05-02T06:11:11.490873Z",
     "shell.execute_reply": "2023-05-02T06:11:11.489589Z"
    },
    "papermill": {
     "duration": 0.029344,
     "end_time": "2023-05-02T06:11:11.493454",
     "exception": false,
     "start_time": "2023-05-02T06:11:11.464110",
     "status": "completed"
    },
    "tags": []
   },
   "outputs": [],
   "source": [
    "bounds_df = bounds_df.iloc[890:]"
   ]
  },
  {
   "cell_type": "code",
   "execution_count": 15,
   "id": "ab8f1aa6",
   "metadata": {
    "execution": {
     "iopub.execute_input": "2023-05-02T06:11:11.535338Z",
     "iopub.status.busy": "2023-05-02T06:11:11.535024Z",
     "iopub.status.idle": "2023-05-02T06:11:11.566979Z",
     "shell.execute_reply": "2023-05-02T06:11:11.565977Z"
    },
    "papermill": {
     "duration": 0.055774,
     "end_time": "2023-05-02T06:11:11.569436",
     "exception": false,
     "start_time": "2023-05-02T06:11:11.513662",
     "status": "completed"
    },
    "tags": []
   },
   "outputs": [],
   "source": [
    "segm_uids = [uid.replace('.nii', '') for uid in os.listdir(segm_path)]"
   ]
  },
  {
   "cell_type": "code",
   "execution_count": 16,
   "id": "34a71d0d",
   "metadata": {
    "execution": {
     "iopub.execute_input": "2023-05-02T06:11:11.611416Z",
     "iopub.status.busy": "2023-05-02T06:11:11.611121Z",
     "iopub.status.idle": "2023-05-02T06:11:11.625478Z",
     "shell.execute_reply": "2023-05-02T06:11:11.624464Z"
    },
    "papermill": {
     "duration": 0.038345,
     "end_time": "2023-05-02T06:11:11.628010",
     "exception": false,
     "start_time": "2023-05-02T06:11:11.589665",
     "status": "completed"
    },
    "tags": []
   },
   "outputs": [],
   "source": [
    "def clear_mask(mask, patient_record, vertebra_number):\n",
    "    labels, counts = np.unique(mask, return_counts=True)\n",
    "    labels, counts = labels[1:], counts[1:]\n",
    "    \n",
    "    match_dict = {}\n",
    "    \n",
    "    for label, count in zip(labels, counts):\n",
    "        if count < 50:\n",
    "            mask[mask == label] = 0\n",
    "            continue\n",
    "        \n",
    "        if label > 0 and label < 8:\n",
    "            lb = patient_record[f'C{label}_lb']\n",
    "            hb = patient_record[f'C{label}_hb']\n",
    "        else:\n",
    "            continue\n",
    "        \n",
    "        new_label = label\n",
    "        \n",
    "        while lb > vertebra_number or hb < vertebra_number:\n",
    "            if lb < vertebra_number:\n",
    "                new_label -= 1\n",
    "            elif hb < vertebra_number:\n",
    "                new_label += 1\n",
    "            else:\n",
    "                break\n",
    "            \n",
    "            if new_label > 0 and new_label < 8:\n",
    "                lb = patient_record[f'C{new_label}_lb']\n",
    "                hb = patient_record[f'C{new_label}_hb']\n",
    "            else:\n",
    "                break\n",
    "        \n",
    "        if new_label != label:\n",
    "            mask[mask == label] == new_label\n",
    "    \n",
    "    return mask\n",
    "\n",
    "def get_slice_n_from_path(path):\n",
    "    return int(str(path).split('/')[-1].split('.')[-2])\n",
    "\n",
    "def load_dicom(path):\n",
    "    # Source: https://www.kaggle.com/code/vslaykovsky/pytorch-effnetv2-vertebrae-detection-acc-0-95\n",
    "    img=dicom.dcmread(path)\n",
    "    img.PhotometricInterpretation = 'YBR_FULL'\n",
    "    data = img.pixel_array\n",
    "    data = data - np.min(data)\n",
    "    if np.max(data) != 0:\n",
    "        data = data / np.max(data)\n",
    "    data=(data * 255).astype(np.uint8)\n",
    "    return cv.cvtColor(data, cv.COLOR_GRAY2RGB), img\n",
    "\n",
    "def save_matrix(mask, save_path):\n",
    "    sparse_matrix = csr_matrix(mask.reshape(-1, mask.shape[-1]))\n",
    "    save_npz(save_path, sparse_matrix)\n",
    "\n",
    "try:\n",
    "    os.mkdir('/kaggle/working/dataset')\n",
    "except:\n",
    "    pass\n",
    "\n",
    "json_dict_name = '/kaggle/working/dataset/metadata.json'\n",
    "json_dict = {}"
   ]
  },
  {
   "cell_type": "code",
   "execution_count": 17,
   "id": "116ba9f8",
   "metadata": {
    "execution": {
     "iopub.execute_input": "2023-05-02T06:11:11.671047Z",
     "iopub.status.busy": "2023-05-02T06:11:11.670754Z",
     "iopub.status.idle": "2023-05-02T15:40:36.713053Z",
     "shell.execute_reply": "2023-05-02T15:40:36.708798Z"
    },
    "papermill": {
     "duration": 34165.066747,
     "end_time": "2023-05-02T15:40:36.715594",
     "exception": false,
     "start_time": "2023-05-02T06:11:11.648847",
     "status": "completed"
    },
    "tags": []
   },
   "outputs": [
    {
     "name": "stderr",
     "output_type": "stream",
     "text": [
      "1129it [9:29:24, 30.26s/it]\n"
     ]
    },
    {
     "name": "stdout",
     "output_type": "stream",
     "text": [
      "34165.02242875099\n"
     ]
    }
   ],
   "source": [
    "BATCH_SIZE = 32\n",
    "preprocess = get_preprocessing(preprocessing_fn)\n",
    "\n",
    "model_time = 0\n",
    "\n",
    "start_time = time()\n",
    "for _, patient_record in tqdm(bounds_df.iterrows()):\n",
    "    patient = patient_record[0]\n",
    "    \n",
    "    if patient in wront_resolution_list or patient in segm_uids:\n",
    "        continue\n",
    "        \n",
    "    patient_path = dicom_path / patient\n",
    "    \n",
    "    list_slices = sorted([get_slice_n_from_path(file) for file in os.listdir(patient_path)])\n",
    "    num_slices = len(list_slices)\n",
    "    \n",
    "    mask = np.zeros((512, 512, num_slices))\n",
    "    batch_counter = 0\n",
    "    \n",
    "    while len(list_slices):\n",
    "        slices = list_slices[:BATCH_SIZE]\n",
    "        list_slices = list_slices[BATCH_SIZE:]\n",
    "        imgs = np.zeros((len(slices), 3, 512, 512))\n",
    "        for ind, slice_ in enumerate(slices):\n",
    "            img, _ = load_dicom(patient_path / (str(slice_) + '.dcm'))\n",
    "            img = preprocess(image = img)['image']\n",
    "            imgs[ind, :, :, :] = img\n",
    "        \n",
    "        imgs = torch.FloatTensor(imgs).to('cuda')\n",
    "        \n",
    "        model_start_time = time()\n",
    "        with torch.cuda.amp.autocast():\n",
    "            predictions = model(imgs)\n",
    "        predictions = np.argmax(predictions.cpu(), axis=1)\n",
    "        mask[:, :, (batch_counter * BATCH_SIZE) : ((batch_counter * BATCH_SIZE) + len(slices))] = \\\n",
    "            np.transpose(predictions, axes = [1, 2, 0])\n",
    "        model_time += time() - model_start_time\n",
    "        batch_counter += 1\n",
    "        \n",
    "    mask = mask.astype(np.uint8)\n",
    "    for i in range(mask.shape[2]):\n",
    "        mask[:, :, i] = clear_mask(mask[:, :, i], patient_record, i + 1)\n",
    "        \n",
    "    save_matrix(mask, f'/kaggle/working/dataset/{patient}.npz')\n",
    "    json_dict[patient] = {}\n",
    "    \n",
    "    for i in range(mask.shape[2]):\n",
    "        vertebrae = np.unique(mask[:, :, i])[1:].tolist()\n",
    "        for vertebra in vertebrae:\n",
    "            if vertebra in json_dict[patient]:\n",
    "                json_dict[patient][vertebra].append(i)\n",
    "            else:\n",
    "                json_dict[patient][vertebra] = []\n",
    "                json_dict[patient][vertebra].append(i)\n",
    "\n",
    "with open(json_dict_name, 'w') as json_file:\n",
    "    json.dump(json_dict, json_file)\n",
    "    \n",
    "print(time() - start_time)"
   ]
  },
  {
   "cell_type": "code",
   "execution_count": 18,
   "id": "9c660ff3",
   "metadata": {
    "execution": {
     "iopub.execute_input": "2023-05-02T15:40:36.886948Z",
     "iopub.status.busy": "2023-05-02T15:40:36.884717Z",
     "iopub.status.idle": "2023-05-02T15:41:03.027468Z",
     "shell.execute_reply": "2023-05-02T15:41:03.026302Z"
    },
    "papermill": {
     "duration": 26.230084,
     "end_time": "2023-05-02T15:41:03.030285",
     "exception": false,
     "start_time": "2023-05-02T15:40:36.800201",
     "status": "completed"
    },
    "tags": []
   },
   "outputs": [],
   "source": [
    "import zipfile\n",
    "    \n",
    "def zipdir(path, ziph):\n",
    "    for root, dirs, files in os.walk(path):\n",
    "        for file in files:\n",
    "            ziph.write(os.path.join(root, file), \n",
    "                       os.path.relpath(os.path.join(root, file), \n",
    "                                       os.path.join(path, '..')))\n",
    "\n",
    "with zipfile.ZipFile('/kaggle/working/dataset.zip', 'w', zipfile.ZIP_DEFLATED) as zipf:\n",
    "    zipdir('/kaggle/working/dataset', zipf)"
   ]
  },
  {
   "cell_type": "code",
   "execution_count": 19,
   "id": "0d5e65a5",
   "metadata": {
    "execution": {
     "iopub.execute_input": "2023-05-02T15:41:03.191144Z",
     "iopub.status.busy": "2023-05-02T15:41:03.190793Z",
     "iopub.status.idle": "2023-05-02T15:41:03.197345Z",
     "shell.execute_reply": "2023-05-02T15:41:03.196335Z"
    },
    "papermill": {
     "duration": 0.088072,
     "end_time": "2023-05-02T15:41:03.199772",
     "exception": false,
     "start_time": "2023-05-02T15:41:03.111700",
     "status": "completed"
    },
    "tags": []
   },
   "outputs": [],
   "source": [
    "# mask_orig = nib.load('/kaggle/input/rsna-2022-cervical-spine-fracture-detection/segmentations/1.2.826.0.1.3680043.5783.nii')\n",
    "# mask_orig_data = mask_orig.get_fdata()[:, :, ::-1]\n",
    "# mask_orig_data.shape\n",
    "# mask_orig_data[mask_orig_data > 7] = 8\n",
    "# mask_orig_data = mask_orig_data.astype(np.uint8)"
   ]
  },
  {
   "cell_type": "code",
   "execution_count": 20,
   "id": "7d7faaf8",
   "metadata": {
    "execution": {
     "iopub.execute_input": "2023-05-02T15:41:03.363033Z",
     "iopub.status.busy": "2023-05-02T15:41:03.362687Z",
     "iopub.status.idle": "2023-05-02T15:41:03.369518Z",
     "shell.execute_reply": "2023-05-02T15:41:03.368128Z"
    },
    "papermill": {
     "duration": 0.091001,
     "end_time": "2023-05-02T15:41:03.372260",
     "exception": false,
     "start_time": "2023-05-02T15:41:03.281259",
     "status": "completed"
    },
    "tags": []
   },
   "outputs": [],
   "source": [
    "# for i in range(mask_orig_data.shape[2]):\n",
    "#     a = np.unique(mask_orig_data[:, :, i])\n",
    "#     b = np.unique(mask[:, :, i])\n",
    "#     if not np.array_equal(a, b):\n",
    "#         diff_r = np.setdiff1d(b, a, assume_unique=True)\n",
    "#         diff_l = np.setdiff1d(a, b, assume_unique=True)\n",
    "#         error_r = 0\n",
    "#         error_l = 0\n",
    "#         for val_r in diff_r:\n",
    "#             error_r += np.count_nonzero(mask[:, :, i] == val_r)\n",
    "        \n",
    "#         for val_l in diff_l:\n",
    "#             error_l += np.count_nonzero(mask_orig_data[:, :, i] == val_l)\n",
    "            \n",
    "#         print(i, diff_r, diff_l, error_r, error_l)"
   ]
  },
  {
   "cell_type": "code",
   "execution_count": 21,
   "id": "4a97cafa",
   "metadata": {
    "execution": {
     "iopub.execute_input": "2023-05-02T15:41:03.533762Z",
     "iopub.status.busy": "2023-05-02T15:41:03.533064Z",
     "iopub.status.idle": "2023-05-02T15:41:03.538385Z",
     "shell.execute_reply": "2023-05-02T15:41:03.537403Z"
    },
    "papermill": {
     "duration": 0.089504,
     "end_time": "2023-05-02T15:41:03.541126",
     "exception": false,
     "start_time": "2023-05-02T15:41:03.451622",
     "status": "completed"
    },
    "tags": []
   },
   "outputs": [],
   "source": [
    "# for i in range(mask_orig_data.shape[2]):\n",
    "#     a = np.unique(mask_orig_data[:, :, i])\n",
    "#     b = np.unique(mask[:, :, i])\n",
    "#     if np.any(a != b):\n",
    "#         print(i+1, ' : ', a, b)"
   ]
  },
  {
   "cell_type": "code",
   "execution_count": null,
   "id": "d2d74d8a",
   "metadata": {
    "papermill": {
     "duration": 0.080401,
     "end_time": "2023-05-02T15:41:03.699351",
     "exception": false,
     "start_time": "2023-05-02T15:41:03.618950",
     "status": "completed"
    },
    "tags": []
   },
   "outputs": [],
   "source": []
  }
 ],
 "metadata": {
  "kernelspec": {
   "display_name": "Python 3",
   "language": "python",
   "name": "python3"
  },
  "language_info": {
   "codemirror_mode": {
    "name": "ipython",
    "version": 3
   },
   "file_extension": ".py",
   "mimetype": "text/x-python",
   "name": "python",
   "nbconvert_exporter": "python",
   "pygments_lexer": "ipython3",
   "version": "3.7.12"
  },
  "papermill": {
   "default_parameters": {},
   "duration": 34281.645389,
   "end_time": "2023-05-02T15:41:06.934684",
   "environment_variables": {},
   "exception": null,
   "input_path": "__notebook__.ipynb",
   "output_path": "__notebook__.ipynb",
   "parameters": {},
   "start_time": "2023-05-02T06:09:45.289295",
   "version": "2.4.0"
  }
 },
 "nbformat": 4,
 "nbformat_minor": 5
}
